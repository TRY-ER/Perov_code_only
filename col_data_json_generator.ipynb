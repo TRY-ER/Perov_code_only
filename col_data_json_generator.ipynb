{
 "cells": [
  {
   "cell_type": "code",
   "execution_count": 35,
   "id": "37d5ee94-6c3b-44d9-b0b7-26b1a1176210",
   "metadata": {},
   "outputs": [],
   "source": [
    "import joblib\n",
    "import pandas as pd\n",
    "import json\n",
    "import numpy as np"
   ]
  },
  {
   "cell_type": "code",
   "execution_count": 36,
   "id": "eb6cd298-4516-48ff-adf0-c651a135a52f",
   "metadata": {},
   "outputs": [],
   "source": [
    "col_data_dict = joblib.load(\"./testing/col_data.z\")\n",
    "col_data_reg = pd.read_csv(\"./testing/trainable_scaled_reg.csv\").columns\n",
    "main_dict = {}\n",
    "export_dict = {}"
   ]
  },
  {
   "cell_type": "code",
   "execution_count": 37,
   "id": "62af9137-8794-4568-853a-2535d1977608",
   "metadata": {},
   "outputs": [],
   "source": [
    "for key,value in col_data_dict.items():\n",
    "    if key in col_data_reg:\n",
    "        temp_ex_dict = {}\n",
    "        temp_ex_dict[\"count\"] = int(value[\"count\"])\n",
    "        temp_ex_dict[\"type\"] = value[\"type\"]\n",
    "        if value[\"type\"] == \"numeric\":\n",
    "            temp_ex_dict[\"u_val\"] = None\n",
    "            temp_ex_dict[\"min\"] = int(value[\"min\"])\n",
    "            temp_ex_dict[\"max\"] = int(value[\"max\"])\n",
    "        else:\n",
    "            temp_ex_dict[\"min\"] = str(value[\"min\"])\n",
    "            temp_ex_dict[\"max\"] = str(value[\"max\"])\n",
    "            temp_ex_dict[\"u_val\"] =  value[\"u_val\"].tolist() if isinstance(value[\"u_val\"],np.ndarray) else value[\"u_val\"]\n",
    "        export_dict[key] = temp_ex_dict"
   ]
  },
  {
   "cell_type": "code",
   "execution_count": 42,
   "id": "6e05700c-ca10-4aea-906c-99182a29ebcb",
   "metadata": {},
   "outputs": [],
   "source": [
    "main_dict[\"col_props\"] = export_dict"
   ]
  },
  {
   "cell_type": "code",
   "execution_count": 43,
   "id": "5ef47f97-b671-4bfc-a41d-8fa9cf966716",
   "metadata": {},
   "outputs": [
    {
     "data": {
      "text/plain": [
       "['./testing/coldata_serial.z']"
      ]
     },
     "execution_count": 43,
     "metadata": {},
     "output_type": "execute_result"
    }
   ],
   "source": [
    "joblib.dump(main_dict,\"./testing/coldata_serial.z\")"
   ]
  },
  {
   "cell_type": "code",
   "execution_count": null,
   "id": "f75cf1dd-ab12-4015-b145-afca836aee9d",
   "metadata": {},
   "outputs": [],
   "source": []
  }
 ],
 "metadata": {
  "kernelspec": {
   "display_name": "Python 3 (ipykernel)",
   "language": "python",
   "name": "python3"
  },
  "language_info": {
   "codemirror_mode": {
    "name": "ipython",
    "version": 3
   },
   "file_extension": ".py",
   "mimetype": "text/x-python",
   "name": "python",
   "nbconvert_exporter": "python",
   "pygments_lexer": "ipython3",
   "version": "3.7.9"
  }
 },
 "nbformat": 4,
 "nbformat_minor": 5
}
