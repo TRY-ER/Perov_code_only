{
 "cells": [
  {
   "cell_type": "code",
   "execution_count": 2,
   "id": "37d5ee94-6c3b-44d9-b0b7-26b1a1176210",
   "metadata": {},
   "outputs": [],
   "source": [
    "import joblib\n",
    "import pandas as pd"
   ]
  },
  {
   "cell_type": "code",
   "execution_count": 3,
   "id": "eb6cd298-4516-48ff-adf0-c651a135a52f",
   "metadata": {},
   "outputs": [],
   "source": [
    "col_data_dict = joblib.load(\"./testing/col_data.z\")\n",
    "col_data_reg = joblib.load(\"./testing/label_encoders/col_data.z\")"
   ]
  },
  {
   "cell_type": "code",
   "execution_count": 11,
   "id": "62af9137-8794-4568-853a-2535d1977608",
   "metadata": {},
   "outputs": [
    {
     "name": "stdout",
     "output_type": "stream",
     "text": [
      "Cell_area_measured_numeric\n",
      "Perovskite_deposition_number_of_deposition_steps_numeric\n",
      "Perovskite_deposition_solvents_mixing_ratios_0\n",
      "Perovskite_composition_b_ions_coefficients_0\n",
      "Perovskite_composition_a_ions_coefficients_0\n",
      "Perovskite_composition_c_ions_coefficients_0\n",
      "Perovskite_deposition_thermal_annealing_temperature_0\n",
      "Perovskite_deposition_thermal_annealing_temperature_1\n",
      "Perovskite_deposition_thermal_annealing_time_0\n",
      "Perovskite_deposition_thermal_annealing_time_1\n",
      "Backcontact_thickness_list_0\n",
      "Cell_architecture_cat\n",
      "Substrate_stack_sequence_0\n",
      "ETL_stack_sequence_0\n",
      "ETL_deposition_procedure_0\n",
      "Perovskite_composition_a_ions_0\n",
      "Perovskite_composition_b_ions_0\n",
      "Perovskite_composition_c_ions_0\n",
      "Perovskite_deposition_procedure_0\n",
      "Perovskite_deposition_aggregation_state_of_reactants_0\n",
      "Perovskite_deposition_synthesis_atmosphere_0\n",
      "Perovskite_deposition_solvents_0\n",
      "HTL_stack_sequence_0\n",
      "HTL_additives_compounds_0\n",
      "HTL_deposition_procedure_0\n",
      "Backcontact_stack_sequence_0\n",
      "Backcontact_deposition_procedure_0\n",
      "PCE_categorical\n",
      "Perovskite_composition_inorganic_bool\n",
      "Perovskite_composition_leadfree_bool\n",
      "Perovskite_band_gap_graded_bool\n",
      "Perovskite_deposition_quenching_induced_crystallisation_bool\n",
      "Encapsulation_bool\n"
     ]
    }
   ],
   "source": [
    "for _,item in col_data_reg.items():\n",
    "    for value in item:\n",
    "        print(value)"
   ]
  },
  {
   "cell_type": "code",
   "execution_count": 13,
   "id": "6e05700c-ca10-4aea-906c-99182a29ebcb",
   "metadata": {},
   "outputs": [
    {
     "data": {
      "text/plain": [
       "Index(['Cell_area_measured_numeric', 'Cell_architecture_cat',\n",
       "       'Substrate_stack_sequence_0', 'ETL_stack_sequence_0',\n",
       "       'ETL_deposition_procedure_0', 'Perovskite_composition_a_ions_0',\n",
       "       'Perovskite_composition_a_ions_coefficients_0',\n",
       "       'Perovskite_composition_b_ions_0',\n",
       "       'Perovskite_composition_b_ions_coefficients_0',\n",
       "       'Perovskite_composition_c_ions_0',\n",
       "       'Perovskite_composition_c_ions_coefficients_0',\n",
       "       'Perovskite_composition_inorganic_bool',\n",
       "       'Perovskite_composition_leadfree_bool',\n",
       "       'Perovskite_band_gap_graded_bool',\n",
       "       'Perovskite_deposition_number_of_deposition_steps_numeric',\n",
       "       'Perovskite_deposition_procedure_0',\n",
       "       'Perovskite_deposition_aggregation_state_of_reactants_0',\n",
       "       'Perovskite_deposition_synthesis_atmosphere_0',\n",
       "       'Perovskite_deposition_solvents_0',\n",
       "       'Perovskite_deposition_solvents_mixing_ratios_0',\n",
       "       'Perovskite_deposition_quenching_induced_crystallisation_bool',\n",
       "       'Perovskite_deposition_thermal_annealing_temperature_0',\n",
       "       'Perovskite_deposition_thermal_annealing_time_0',\n",
       "       'HTL_stack_sequence_0', 'HTL_additives_compounds_0',\n",
       "       'HTL_deposition_procedure_0', 'Backcontact_stack_sequence_0',\n",
       "       'Backcontact_thickness_list_0', 'Backcontact_deposition_procedure_0',\n",
       "       'Encapsulation_bool', 'JV_default_PCE_numeric'],\n",
       "      dtype='object')"
      ]
     },
     "execution_count": 13,
     "metadata": {},
     "output_type": "execute_result"
    }
   ],
   "source": [
    "pd.read_csv(\"./testing/trainable_scaled_reg.csv\").columns"
   ]
  },
  {
   "cell_type": "code",
   "execution_count": null,
   "id": "5ef47f97-b671-4bfc-a41d-8fa9cf966716",
   "metadata": {},
   "outputs": [],
   "source": []
  }
 ],
 "metadata": {
  "kernelspec": {
   "display_name": "Python 3 (ipykernel)",
   "language": "python",
   "name": "python3"
  },
  "language_info": {
   "codemirror_mode": {
    "name": "ipython",
    "version": 3
   },
   "file_extension": ".py",
   "mimetype": "text/x-python",
   "name": "python",
   "nbconvert_exporter": "python",
   "pygments_lexer": "ipython3",
   "version": "3.7.9"
  }
 },
 "nbformat": 4,
 "nbformat_minor": 5
}
