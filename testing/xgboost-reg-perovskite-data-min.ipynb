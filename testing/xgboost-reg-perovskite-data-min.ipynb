{
 "cells": [
  {
   "cell_type": "code",
   "execution_count": 3,
   "metadata": {
    "_cell_guid": "b1076dfc-b9ad-4769-8c92-a6c4dae69d19",
    "_uuid": "8f2839f25d086af736a60e9eeb907d3b93b6e0e5",
    "execution": {
     "iopub.execute_input": "2022-07-01T11:56:15.788138Z",
     "iopub.status.busy": "2022-07-01T11:56:15.787744Z",
     "iopub.status.idle": "2022-07-01T11:56:16.497306Z",
     "shell.execute_reply": "2022-07-01T11:56:16.496229Z",
     "shell.execute_reply.started": "2022-07-01T11:56:15.788103Z"
    }
   },
   "outputs": [],
   "source": [
    "! nvidia-smi"
   ]
  },
  {
   "cell_type": "code",
   "execution_count": 4,
   "metadata": {
    "execution": {
     "iopub.execute_input": "2022-07-01T11:56:17.396424Z",
     "iopub.status.busy": "2022-07-01T11:56:17.396057Z",
     "iopub.status.idle": "2022-07-01T11:56:28.915410Z",
     "shell.execute_reply": "2022-07-01T11:56:28.914080Z",
     "shell.execute_reply.started": "2022-07-01T11:56:17.396393Z"
    }
   },
   "outputs": [],
   "source": [
    "!pip install optuna xgboost==1.6.1"
   ]
  },
  {
   "cell_type": "code",
   "execution_count": 5,
   "metadata": {
    "execution": {
     "iopub.execute_input": "2022-07-01T11:56:28.918204Z",
     "iopub.status.busy": "2022-07-01T11:56:28.917921Z",
     "iopub.status.idle": "2022-07-01T11:56:30.255274Z",
     "shell.execute_reply": "2022-07-01T11:56:30.254310Z",
     "shell.execute_reply.started": "2022-07-01T11:56:28.918179Z"
    }
   },
   "outputs": [],
   "source": [
    "import pandas as pd\n",
    "import numpy as np\n",
    "from xgboost import XGBRegressor\n",
    "from sklearn.metrics import accuracy_score,mean_squared_error\n",
    "import optuna as opt\n",
    "import os\n",
    "import joblib"
   ]
  },
  {
   "cell_type": "code",
   "execution_count": 6,
   "metadata": {
    "execution": {
     "iopub.execute_input": "2022-07-01T11:56:34.276921Z",
     "iopub.status.busy": "2022-07-01T11:56:34.276573Z",
     "iopub.status.idle": "2022-07-01T11:56:34.287523Z",
     "shell.execute_reply": "2022-07-01T11:56:34.286440Z",
     "shell.execute_reply.started": "2022-07-01T11:56:34.276894Z"
    }
   },
   "outputs": [],
   "source": [
    "def make_save_cv_model(i,model_name,model,best_params,optim,mse_loss,trial_data,output_path=\"./\"):\n",
    "\n",
    "    ''' This function saves cross validation model in the corresponding directory ( if the path does not exist it creates the path for it'''\n",
    "\n",
    "\n",
    "    if os.path.exists(os.path.join(output_path,f\"{i}_{model_name}_{optim}\")):\n",
    "        joblib.dump(model, os.path.join(output_path,f\"{i}_{model_name}_{optim}/{i}_model.z\"))\n",
    "        with open(os.path.join(output_path,f\"{i}_{model_name}_{optim}/model_params.txt\"),\"w+\") as file:file.write(str(best_params))\n",
    "        with open(os.path.join(output_path,f\"{i}_{model_name}_{optim}/mse_loss.txt\"),\"w+\") as file:file.write(f\" mse_loss :: {str(mse_loss)}\")\n",
    "        joblib.dump(trial_data, os.path.join(output_path,f\"{i}_{model_name}_{optim}/{i}_trial_data.z\"))\n",
    "    else:\n",
    "        os.mkdir(os.path.join(output_path,f\"{i}_{model_name}_{optim}\"))\n",
    "        joblib.dump(model, os.path.join(output_path,f\"{i}_{model_name}_{optim}/{i}_model.z\"))\n",
    "        with open(os.path.join(output_path,f\"{i}_{model_name}_{optim}/model_params.txt\"),\"w+\") as file:file.write(str(best_params))\n",
    "        with open(os.path.join(output_path,f\"{i}_{model_name}_{optim}/mse_loss.txt\"),\"w+\") as file:file.write(f\" mse_loss :: {str(mse_loss)}\")\n",
    "        joblib.dump(trial_data, os.path.join(output_path,f\"{i}_{model_name}_{optim}/{i}_trial_data.z\"))"
   ]
  },
  {
   "cell_type": "code",
   "execution_count": 7,
   "metadata": {
    "execution": {
     "iopub.execute_input": "2022-07-01T11:56:38.872819Z",
     "iopub.status.busy": "2022-07-01T11:56:38.872484Z",
     "iopub.status.idle": "2022-07-01T11:56:38.878874Z",
     "shell.execute_reply": "2022-07-01T11:56:38.877976Z",
     "shell.execute_reply.started": "2022-07-01T11:56:38.872792Z"
    }
   },
   "outputs": [],
   "source": [
    "def get_trial_data(trial) -> list:\n",
    "  ''' This function takes the trial objects and returns the dictionary containing the trial details for plotting and comparing purposes '''\n",
    "  trial_data = trial.get_trials()\n",
    "  value_dict = {}\n",
    "  for i in trial_data:\n",
    "    print(i.params)\n",
    "    value_dict[i.number] = {\"params\": i.params , \"accuracy\": i.values}\n",
    "    print(f\"{i.number} : {i.values}\")\n",
    "  return value_dict"
   ]
  },
  {
   "cell_type": "code",
   "execution_count": 10,
   "metadata": {
    "execution": {
     "iopub.execute_input": "2022-07-01T12:01:00.303390Z",
     "iopub.status.busy": "2022-07-01T12:01:00.303011Z",
     "iopub.status.idle": "2022-07-01T12:01:00.321217Z",
     "shell.execute_reply": "2022-07-01T12:01:00.320262Z",
     "shell.execute_reply.started": "2022-07-01T12:01:00.303357Z"
    }
   },
   "outputs": [],
   "source": [
    "def train(fold_dict,fold,model_name,sc_df,tar_col,optim,optim_trial,k_folds,tar_cols=\"\",verbose=1):\n",
    "\n",
    "    ''' this function is used to train the model with parameters optimization using optuna and cross validation using stratified k_folds'''\n",
    "\n",
    "    y = sc_df[tar_col]\n",
    "    print(y.shape)\n",
    "    x = sc_df.drop([tar_col],axis=1)\n",
    "    print(x.shape)\n",
    "    model_name = model_name \n",
    "    def objective(trial):\n",
    "      train_index = fold_dict[fold][\"train\"]\n",
    "      test_index = fold_dict[fold][\"test\"]\n",
    "      clf = XGBRegressor(n_estimators=trial.suggest_categorical(\"xgb_est\",[300,500,700]),\n",
    "                        max_leaves = 0,\n",
    "                        learning_rate=trial.suggest_categorical(\"xgb_lr\",[0.1,0.01,0.001]),\n",
    "                        booster = trial.suggest_categorical(\"xgb_booster\",[\"gbtree\",\"gblinear\",\"dart\"]),\n",
    "                        verbosity = 1,\n",
    "                        tree_method = \"gpu_hist\",\n",
    "                        predictor = \"gpu_predictor\")\n",
    "      # print(f\" train_index :: {train_index}\")\n",
    "      # print(f\" test_index :: {test_index}\")\n",
    "      X_train,X_test = x.iloc[train_index,:], x.iloc[test_index,:]\n",
    "      # print(X_train.shape, X_test.shape)\n",
    "      X_train, X_test = X_train.to_numpy(dtype=np.float64), X_test.to_numpy(dtype=np.float64)\n",
    "      Y_train, Y_test = y.iloc[train_index].to_numpy(dtype=np.float64), y.iloc[test_index].to_numpy(np.float64)\n",
    "      # Y_train, Y_test = Y_train.to_numpy(dtype=np.float64), Y_test.to_numpy(dtype=np.float64)\n",
    "      print(X_train.shape)\n",
    "      print(Y_train.shape)\n",
    "      print(X_test.shape)\n",
    "      print(Y_test.shape)\n",
    "      clf.fit(X_train, Y_train,\n",
    "              eval_set=[(X_test, Y_test)],\n",
    "              eval_metric=[\"rmse\"])\n",
    "      Y_pred = clf.predict(X_test)\n",
    "      mse_error = mean_squared_error(Y_pred, Y_test)\n",
    "      return mse_error\n",
    "\n",
    "    print(f\"Starting optimization for fold : [{fold}/{k_folds}]\")\n",
    "    study = opt.create_study(direction='minimize')\n",
    "    study.optimize(objective, n_trials=optim_trial)\n",
    "    best_params = study.best_params\n",
    "    trial_data = get_trial_data(study)\n",
    "    print(f\" Best params for fold : [{fold}/{k_folds}]\")\n",
    "    print(best_params)\n",
    "    train_index = fold_dict[fold][\"train\"]\n",
    "    test_index = fold_dict[fold][\"test\"]\n",
    "    X_train,X_test = x.iloc[train_index,:], x.iloc[test_index,:]\n",
    "    # print(X_train.shape, X_test.shape)\n",
    "    X_train, X_test = X_train.to_numpy(dtype=np.float64), X_test.to_numpy(dtype=np.float64)\n",
    "    Y_train, Y_test = y.iloc[train_index], y.iloc[test_index]\n",
    "    Y_train, Y_test = Y_train.to_numpy(dtype=np.float64), Y_test.to_numpy(dtype=np.float64)\n",
    "    clf_model = XGBRegressor(**study.best_params)\n",
    "    clf_model.fit(X_train,Y_train)\n",
    "    Y_pred = clf_model.predict(X_test)\n",
    "    error = mean_squared_error(Y_pred, Y_test)\n",
    "    # try:\n",
    "    print(\"[++] Saving the model and parameters in corresponding directories\")\n",
    "    make_save_cv_model(fold,model_name,clf_model,best_params,optim,mse_loss=error,trial_data=trial_data)\n",
    "    return trial_data\n",
    "    # except:\n",
    "    #     print(\"[-] Failed to save the model\")"
   ]
  },
  {
   "cell_type": "code",
   "execution_count": 11,
   "metadata": {
    "execution": {
     "iopub.execute_input": "2022-07-01T12:01:01.918364Z",
     "iopub.status.busy": "2022-07-01T12:01:01.917974Z",
     "iopub.status.idle": "2022-07-01T12:01:14.417266Z",
     "shell.execute_reply": "2022-07-01T12:01:14.415788Z",
     "shell.execute_reply.started": "2022-07-01T12:01:01.918331Z"
    }
   },
   "outputs": [],
   "source": [
    "use_df = pd.read_csv(\"../input/perovskite-regression-data/trainable_scaled_reg.csv\")\n",
    "tar_col = \"JV_default_PCE_numeric\"\n",
    "model_name = \"xg_boost_reg\"\n",
    "fold_dict = joblib.load(\"../input/perovskite-regression-data/fold_data.z\")\n",
    "optim = \"no_optim\"\n",
    "fold = 0\n",
    "k_folds = 20\n",
    "num_trials = 20\n",
    "\n",
    "trial_data = train(fold_dict = fold_dict,\n",
    "      fold = fold,\n",
    "      k_folds=k_folds,\n",
    "      model_name=model_name,\n",
    "      sc_df=use_df,\n",
    "      tar_col=tar_col,\n",
    "      optim = optim,\n",
    "      optim_trial = num_trials)\n",
    "for key,value in trial_data.items():\n",
    "  print(f\"{key}: {value['accuracy']}\")\n",
    "print(f\"[++] Ended the training process for fold {fold}\")"
   ]
  },
  {
   "cell_type": "code",
   "execution_count": null,
   "metadata": {},
   "outputs": [],
   "source": []
  }
 ],
 "metadata": {
  "kernelspec": {
   "display_name": "Python 3 (ipykernel)",
   "language": "python",
   "name": "python3"
  },
  "language_info": {
   "codemirror_mode": {
    "name": "ipython",
    "version": 3
   },
   "file_extension": ".py",
   "mimetype": "text/x-python",
   "name": "python",
   "nbconvert_exporter": "python",
   "pygments_lexer": "ipython3",
   "version": "3.7.9"
  }
 },
 "nbformat": 4,
 "nbformat_minor": 4
}
