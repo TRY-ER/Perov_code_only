{
 "cells": [
  {
   "cell_type": "code",
   "execution_count": 8,
   "id": "ff8c492f-d0c2-4ce0-ba85-8fadce02bc58",
   "metadata": {},
   "outputs": [],
   "source": [
    "import pandas as pd\n",
    "import numpy as np\n",
    "from sklearn.model_selection import KFold\n",
    "import joblib"
   ]
  },
  {
   "cell_type": "code",
   "execution_count": 9,
   "id": "d902a439-6647-4baf-a4b0-ae81d4287337",
   "metadata": {},
   "outputs": [],
   "source": [
    "def save_k_fold(df,k_folds, tarcol,save=True,save_path=\"./reg_data/\"):\n",
    "    y = df[tarcol]\n",
    "    x = df.drop([tarcol],axis=1)\n",
    "    # k_fold constructing the cross-validation framework\n",
    "    skf = KFold(n_splits=k_folds,shuffle=True, random_state=123 )\n",
    "    fold_dict = {}\n",
    "    for i, (train_index, test_index) in enumerate(skf.split(x,y)):\n",
    "        index_data = {\"train\": train_index,\n",
    "                      \"test\": test_index}\n",
    "        fold_dict[i] = index_data\n",
    "    if save:\n",
    "        joblib.dump(fold_dict,f\"{save_path}fold_data.z\")\n",
    "        print(f\"saved the fold_data at {save_path}fold_data.z\")"
   ]
  },
  {
   "cell_type": "code",
   "execution_count": 10,
   "id": "5934057b-0897-4435-85a0-1d850e86d94a",
   "metadata": {},
   "outputs": [
    {
     "name": "stdout",
     "output_type": "stream",
     "text": [
      "Starting generating folds...\n",
      "saved the fold_data at ./reg_data/fold_data.z\n",
      "Generating and saved folds...\n"
     ]
    }
   ],
   "source": [
    "if __name__ == \"__main__\":\n",
    "    df = pd.read_csv(\"./trainable_scaled_reg.csv\")\n",
    "    k_folds = 20\n",
    "    tarcol = \"JV_default_PCE_numeric\"\n",
    "    print(\"Starting generating folds...\")\n",
    "    save_k_fold(df=df,k_folds=k_folds,tarcol=tarcol)\n",
    "    print(\"Generating and saved folds...\")"
   ]
  },
  {
   "cell_type": "code",
   "execution_count": null,
   "id": "5680dc8c-3c52-45f7-b890-7dbbe0e09bb9",
   "metadata": {},
   "outputs": [],
   "source": []
  }
 ],
 "metadata": {
  "kernelspec": {
   "display_name": "Python 3 (ipykernel)",
   "language": "python",
   "name": "python3"
  },
  "language_info": {
   "codemirror_mode": {
    "name": "ipython",
    "version": 3
   },
   "file_extension": ".py",
   "mimetype": "text/x-python",
   "name": "python",
   "nbconvert_exporter": "python",
   "pygments_lexer": "ipython3",
   "version": "3.7.9"
  }
 },
 "nbformat": 4,
 "nbformat_minor": 5
}
