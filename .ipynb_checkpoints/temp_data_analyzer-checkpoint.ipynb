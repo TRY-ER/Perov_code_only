{
 "cells": [
  {
   "cell_type": "code",
   "execution_count": 48,
   "id": "93b9a8cb-be4c-4c9f-8d8d-9411af8617aa",
   "metadata": {},
   "outputs": [],
   "source": [
    "import pandas as pd\n",
    "import numpy as np"
   ]
  },
  {
   "cell_type": "code",
   "execution_count": 49,
   "id": "8cd41885-524a-49e0-90d9-0db5ecc886c6",
   "metadata": {},
   "outputs": [],
   "source": [
    "main_df = pd.read_csv(\"./inputs/smote_main_reversed_revised_main.csv\")\n",
    "num_df = pd.read_csv(\"./outputs/data/trainable_encoded.csv\")"
   ]
  },
  {
   "cell_type": "code",
   "execution_count": 50,
   "id": "f224123a-706d-4926-904a-e60315bd8e33",
   "metadata": {},
   "outputs": [
    {
     "name": "stdout",
     "output_type": "stream",
     "text": [
      "Substrate_stack_sequence_1\n",
      "[' FTO' ' ITO' ' Au' ' AZO' 'None' ' MoO3 ' ' Ag-nw ' ' Ag-nw' ' AZO '\n",
      " ' ITO ' ' Graphene ' ' PEDOT:PSS' ' rGO' ' SWCNTs ' ' SWCNTs-HNO3'\n",
      " ' Ag-grid ' ' ZnO ' ' AZO:F' ' TiO2 ' ' Graphene' ' TiO2-c ' ' IZO' ' Ag'\n",
      " ' Ag-grid' ' Ag-np ' ' Cd2SnO4' ' GFRHybrimer' ' resist ' ' DWCNTs'\n",
      " ' WO3 ' ' FAZO' ' ITO-HMDS Scaffold' ' Cu' ' Ni' ' APTES' ' IWO' ' ZrO2 '\n",
      " ' MPTMS-SMA ' ' PET' ' MSA-PEDOT:PSS' ' PEI ']\n",
      "41\n",
      "40\n"
     ]
    }
   ],
   "source": [
    "for i,col in enumerate(main_df.columns):\n",
    "    if i == 3:\n",
    "        print(col)\n",
    "        print(main_df[col].unique())\n",
    "        print(len(main_df[col].unique()))\n",
    "        print(num_df[col].max())"
   ]
  },
  {
   "cell_type": "code",
   "execution_count": 51,
   "id": "34a4b568-13d5-46cd-9d03-7b1643d62b7e",
   "metadata": {},
   "outputs": [],
   "source": [
    "this = \" this  that\"\n",
    "def elem(word):\n",
    "    try:\n",
    "        if word[0] == \" \": word = word[1:]\n",
    "        if word[-1] == \" \": word = word[:-1]\n",
    "    except:...\n",
    "    return word"
   ]
  },
  {
   "cell_type": "code",
   "execution_count": 52,
   "id": "9178d780-44b9-4684-a107-152ab1e2437c",
   "metadata": {},
   "outputs": [],
   "source": [
    "temp_df = main_df.copy()"
   ]
  },
  {
   "cell_type": "code",
   "execution_count": null,
   "id": "2dce47dc-9402-4579-98aa-2f103c9afeac",
   "metadata": {},
   "outputs": [],
   "source": []
  },
  {
   "cell_type": "code",
   "execution_count": 53,
   "id": "cdaf9950-f1db-48b4-a986-9e1372261f62",
   "metadata": {},
   "outputs": [],
   "source": [
    "for col in temp_df.columns:\n",
    "    new_val = []\n",
    "    for value in temp_df[col].values:\n",
    "        indiv_val = elem(value)\n",
    "        new_val.append(indiv_val)\n",
    "    temp_df[col] = new_val"
   ]
  },
  {
   "cell_type": "code",
   "execution_count": 55,
   "id": "810489b0-7c74-4d84-92e4-dd7ce1d6f22f",
   "metadata": {},
   "outputs": [
    {
     "name": "stdout",
     "output_type": "stream",
     "text": [
      "Substrate_stack_sequence_1\n",
      "['FTO' 'ITO' 'Au' 'AZO' 'None' 'MoO3' 'Ag-nw' 'Graphene' 'PEDOT:PSS' 'rGO'\n",
      " 'SWCNTs' 'SWCNTs-HNO3' 'Ag-grid' 'ZnO' 'AZO:F' 'TiO2' 'TiO2-c' 'IZO' 'Ag'\n",
      " 'Ag-np' 'Cd2SnO4' 'GFRHybrimer' 'resist' 'DWCNTs' 'WO3' 'FAZO'\n",
      " 'ITO-HMDS Scaffold' 'Cu' 'Ni' 'APTES' 'IWO' 'ZrO2' 'MPTMS-SMA' 'PET'\n",
      " 'MSA-PEDOT:PSS' 'PEI']\n",
      "36\n",
      "40\n"
     ]
    }
   ],
   "source": [
    "for i,col in enumerate(temp_df.columns):\n",
    "    if i == 3:\n",
    "        print(col)\n",
    "        print(temp_df[col].unique())\n",
    "        print(len(temp_df[col].unique()))\n",
    "        print(num_df[col].max())"
   ]
  },
  {
   "cell_type": "code",
   "execution_count": null,
   "id": "456c1b6f-942d-4e18-a90b-be01f09f07f3",
   "metadata": {},
   "outputs": [],
   "source": []
  }
 ],
 "metadata": {
  "kernelspec": {
   "display_name": "Python 3 (ipykernel)",
   "language": "python",
   "name": "python3"
  },
  "language_info": {
   "codemirror_mode": {
    "name": "ipython",
    "version": 3
   },
   "file_extension": ".py",
   "mimetype": "text/x-python",
   "name": "python",
   "nbconvert_exporter": "python",
   "pygments_lexer": "ipython3",
   "version": "3.7.9"
  }
 },
 "nbformat": 4,
 "nbformat_minor": 5
}
