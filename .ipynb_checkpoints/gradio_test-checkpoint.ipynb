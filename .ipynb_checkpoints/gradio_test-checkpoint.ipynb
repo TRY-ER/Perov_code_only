{
 "cells": [
  {
   "cell_type": "code",
   "execution_count": 84,
   "id": "b5dd9080-450b-4113-9bfe-8247d7e27fc6",
   "metadata": {},
   "outputs": [],
   "source": [
    "import gradio as gr\n",
    "import joblib"
   ]
  },
  {
   "cell_type": "code",
   "execution_count": 85,
   "id": "fab85eeb-704f-4761-8ff2-cf809e2c0961",
   "metadata": {},
   "outputs": [],
   "source": [
    "#gradio preprocessing\n",
    "col_data = joblib.load(\"./deposition/col_data_pred.z\")"
   ]
  },
  {
   "cell_type": "code",
   "execution_count": 86,
   "id": "a16576b1-6af4-4aae-af61-b936e31302d1",
   "metadata": {},
   "outputs": [],
   "source": [
    "input_list = []\n",
    "\n",
    "\n",
    "#tesint the code \n",
    "for col in col_data.keys():\n",
    "    if col_data[col][\"type\"] == \"categorical\":\n",
    "        input_list.append(gr.Dropdown(choices=col_data[col][\"u_val\"].tolist(),\n",
    "                                      label = col))\n",
    "    elif col_data[col][\"type\"] == \"numeric\":\n",
    "        input_list.append(gr.Number(value=col_data[col][\"min\"],\n",
    "                                    label = col))"
   ]
  },
  {
   "cell_type": "code",
   "execution_count": null,
   "id": "be6efbb7-973b-425c-8ddc-ca617a10cbb3",
   "metadata": {},
   "outputs": [],
   "source": []
  },
  {
   "cell_type": "code",
   "execution_count": 87,
   "id": "10041788-f107-4d45-aec2-13a21e5db75b",
   "metadata": {},
   "outputs": [],
   "source": [
    "def test(name,age):return f\"Hello, {name}, You are {age} years old\""
   ]
  },
  {
   "cell_type": "code",
   "execution_count": 88,
   "id": "967b632c-ffca-4d30-8dc0-dc4249853045",
   "metadata": {
    "tags": []
   },
   "outputs": [
    {
     "name": "stdout",
     "output_type": "stream",
     "text": [
      "Running on local URL:  http://127.0.0.1:7873/\n",
      "\n",
      "To create a public link, set `share=True` in `launch()`.\n"
     ]
    },
    {
     "data": {
      "text/html": [
       "\n",
       "        <iframe\n",
       "            width=\"900\"\n",
       "            height=\"500\"\n",
       "            src=\"http://127.0.0.1:7873/\"\n",
       "            frameborder=\"0\"\n",
       "            allowfullscreen\n",
       "            \n",
       "        ></iframe>\n",
       "        "
      ],
      "text/plain": [
       "<IPython.lib.display.IFrame at 0x1a3b5720588>"
      ]
     },
     "metadata": {},
     "output_type": "display_data"
    },
    {
     "data": {
      "text/plain": [
       "(<gradio.routes.App at 0x1a3b565d208>, 'http://127.0.0.1:7873/', None)"
      ]
     },
     "execution_count": 88,
     "metadata": {},
     "output_type": "execute_result"
    }
   ],
   "source": [
    "app = gr.Interface(fn = test,\n",
    "                   inputs = input_list,\n",
    "                   outputs = [gr.Textbox(placeholder=\"output\")])\n",
    "app.launch()       "
   ]
  },
  {
   "cell_type": "code",
   "execution_count": null,
   "id": "a470f76d-a516-4b5c-b133-accf640cd20b",
   "metadata": {},
   "outputs": [],
   "source": []
  },
  {
   "cell_type": "code",
   "execution_count": null,
   "id": "23bceb67-a659-4109-a999-1636d6659658",
   "metadata": {},
   "outputs": [],
   "source": []
  }
 ],
 "metadata": {
  "kernelspec": {
   "display_name": "Python 3 (ipykernel)",
   "language": "python",
   "name": "python3"
  },
  "language_info": {
   "codemirror_mode": {
    "name": "ipython",
    "version": 3
   },
   "file_extension": ".py",
   "mimetype": "text/x-python",
   "name": "python",
   "nbconvert_exporter": "python",
   "pygments_lexer": "ipython3",
   "version": "3.7.9"
  }
 },
 "nbformat": 4,
 "nbformat_minor": 5
}
