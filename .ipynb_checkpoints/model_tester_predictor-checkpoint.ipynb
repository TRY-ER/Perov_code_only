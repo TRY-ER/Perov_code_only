{
 "cells": [
  {
   "cell_type": "code",
   "execution_count": 1,
   "id": "75b6e86e-785c-41ca-8b89-89d8a1cd40f4",
   "metadata": {},
   "outputs": [],
   "source": [
    "import joblib"
   ]
  },
  {
   "cell_type": "code",
   "execution_count": null,
   "id": "f93fa641-2fed-48e6-8af0-731a6287d429",
   "metadata": {},
   "outputs": [],
   "source": [
    "# creating the dataset for prediction\n",
    "dataframe_dict = {\"Cell_area_measured_numeric\":0.2,\n",
    "            \"Cell_architecture_cat\":\"nip\",\n",
    "            \"Substrate_stack_sequence_0\":\"SLG\",\n",
    "           \"ETL_stack_sequence_0\":\"TiO2-c\",\n",
    "           \"ETL_deposition_procedure_0\":\"Spray-pyrolys\",\n",
    "           \"Perovskite_composition_a_ions_0\":\"Cs\",\n",
    "           \"Perovskite_composition_a_ions_coefficients_0\":1,\n",
    "            \"Perovskite_composition_b_ions_0\":\"Sn\",\n",
    "            \"Perovskite_composition_b_ions_coefficients_0\":1,\n",
    "            \"Perovskite_composition_c_ions_0\":\"Br\",\n",
    "           \"Perovskite_composition_c_ions_coefficients_0\":3,\n",
    "            \"Perovskite_composition_inorganic_bool\":\"No\",\n",
    "                \"Perovskite_composition_leadfree_bool\":\"Yes\",\n",
    "                  \"Perovskite_band_gap_graded_bool\":\"No\",\n",
    "                \"Perovskite_deposition_number_of_deposition_steps_numeric\":1,\n",
    "                \"Perovskite_deposition_procedure_0\":\"Space-limited inverse temperature crystallization\",\n",
    "                \"Perovskite_deposition_aggregation_state_of_reactants_0\":\"Liquid\",    \n",
    "                \"Perovskite_deposition_synthesis_atmosphere_0\":\"N2\",\n",
    "                \"Perovskite_deposition_solvents_0\":\"DMSO\",\n",
    "                \"Perovskite_deposition_solvents_mixing_ratios_0\":1,\n",
    "                \"Perovskite_deposition_quenching_induced_crystallisation_bool\":\"No\",\n",
    "                \"Perovskite_deposition_thermal_annealing_temperature_0\":100,\n",
    "                \"Perovskite_deposition_thermal_annealing_temperature_1\":0,\n",
    "                \"Perovskite_deposition_thermal_annealing_time_0\":10,\n",
    "                \"Perovskite_deposition_thermal_annealing_time_1\":0,\n",
    "                \"HTL_stack_sequence_0\":\"Selenium\",\n",
    "                \"HTL_additives_compounds_0\":\"Li(CF3SO2)2N\",\n",
    "                \"HTL_deposition_procedure_0\":\"Spin-coating\",\n",
    "                \"Backcontact_stack_sequence_0\":\"Au\",\n",
    "            \"Backcontact_thickness_list_0\":90,\n",
    "            \"Backcontact_deposition_procedure_0\":\"Evaporation\",\n",
    "            \"Encapsulation_bool\":\"No\"}"
   ]
  },
  {
   "cell_type": "code",
   "execution_count": null,
   "id": "b32bfcb0-ba4f-43f4-9b18-abfa06d1b5b4",
   "metadata": {},
   "outputs": [],
   "source": [
    "#loading the model\n",
    "def predict(df,num_folds):\n",
    "    result_li = []\n",
    "    for fold in range(num_folds):\n",
    "        model = joblib.load(f\"./testing/models/{fold}_xgboost.z\")\n",
    "        result = model.predict(df)\n",
    "    result_li.append(result)\n",
    "    return result_li"
   ]
  }
 ],
 "metadata": {
  "kernelspec": {
   "display_name": "Python 3 (ipykernel)",
   "language": "python",
   "name": "python3"
  },
  "language_info": {
   "codemirror_mode": {
    "name": "ipython",
    "version": 3
   },
   "file_extension": ".py",
   "mimetype": "text/x-python",
   "name": "python",
   "nbconvert_exporter": "python",
   "pygments_lexer": "ipython3",
   "version": "3.7.9"
  }
 },
 "nbformat": 4,
 "nbformat_minor": 5
}
