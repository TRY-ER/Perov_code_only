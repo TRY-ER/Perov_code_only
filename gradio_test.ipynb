{
 "cells": [
  {
   "cell_type": "code",
   "execution_count": 117,
   "id": "b5dd9080-450b-4113-9bfe-8247d7e27fc6",
   "metadata": {},
   "outputs": [],
   "source": [
    "import gradio as gr\n",
    "import joblib"
   ]
  },
  {
   "cell_type": "code",
   "execution_count": 118,
   "id": "fab85eeb-704f-4761-8ff2-cf809e2c0961",
   "metadata": {},
   "outputs": [],
   "source": [
    "#gradio preprocessing\n",
    "col_data = joblib.load(\"./deposition/col_data_pred.z\")"
   ]
  },
  {
   "cell_type": "code",
   "execution_count": 119,
   "id": "a16576b1-6af4-4aae-af61-b936e31302d1",
   "metadata": {},
   "outputs": [],
   "source": [
    "input_list = []\n",
    "\n",
    "\n",
    "#tesint the code \n",
    "for col in col_data.keys():\n",
    "    if col_data[col][\"type\"] == \"categorical\":\n",
    "        input_list.append(gr.Dropdown(choices=col_data[col][\"u_val\"].tolist(),\n",
    "                                      label = col))\n",
    "    elif col_data[col][\"type\"] == \"numeric\":\n",
    "        input_list.append(gr.Number(value=col_data[col][\"min\"],\n",
    "                                    label = f\"{col} ::: enter value between {col_data[col]['min']} and {col_data[col]['max']}\"))"
   ]
  },
  {
   "cell_type": "code",
   "execution_count": null,
   "id": "be6efbb7-973b-425c-8ddc-ca617a10cbb3",
   "metadata": {},
   "outputs": [],
   "source": []
  },
  {
   "cell_type": "code",
   "execution_count": 132,
   "id": "10041788-f107-4d45-aec2-13a21e5db75b",
   "metadata": {},
   "outputs": [],
   "source": [
    "# edting the main function for the ouput mangagement\n",
    "\n",
    "def predict(num_list):\n",
    "    sum = 0\n",
    "    for i in num_list:sum += i \n",
    "    return sum"
   ]
  },
  {
   "cell_type": "code",
   "execution_count": 133,
   "id": "bd6e2233-a3a1-4a6f-b730-fc6424966bb0",
   "metadata": {},
   "outputs": [
    {
     "name": "stdout",
     "output_type": "stream",
     "text": [
      "Running on local URL:  http://127.0.0.1:7884/\n",
      "\n",
      "To create a public link, set `share=True` in `launch()`.\n"
     ]
    },
    {
     "data": {
      "text/html": [
       "\n",
       "        <iframe\n",
       "            width=\"900\"\n",
       "            height=\"500\"\n",
       "            src=\"http://127.0.0.1:7884/\"\n",
       "            frameborder=\"0\"\n",
       "            allowfullscreen\n",
       "            \n",
       "        ></iframe>\n",
       "        "
      ],
      "text/plain": [
       "<IPython.lib.display.IFrame at 0x1a3b5e21988>"
      ]
     },
     "metadata": {},
     "output_type": "display_data"
    },
    {
     "name": "stderr",
     "output_type": "stream",
     "text": [
      "Traceback (most recent call last):\n",
      "  File \"c:\\users\\avyar\\appdata\\local\\programs\\python\\python37\\lib\\site-packages\\gradio\\routes.py\", line 281, in predict\n",
      "    output = await app.blocks.process_api(body, username, session_state)\n",
      "  File \"c:\\users\\avyar\\appdata\\local\\programs\\python\\python37\\lib\\site-packages\\gradio\\blocks.py\", line 356, in process_api\n",
      "    predictions = await run_in_threadpool(block_fn.fn, *processed_input)\n",
      "  File \"c:\\users\\avyar\\appdata\\local\\programs\\python\\python37\\lib\\site-packages\\starlette\\concurrency.py\", line 41, in run_in_threadpool\n",
      "    return await anyio.to_thread.run_sync(func, *args)\n",
      "  File \"c:\\users\\avyar\\appdata\\local\\programs\\python\\python37\\lib\\site-packages\\anyio\\to_thread.py\", line 29, in run_sync\n",
      "    limiter=limiter)\n",
      "  File \"c:\\users\\avyar\\appdata\\local\\programs\\python\\python37\\lib\\site-packages\\anyio\\_backends\\_asyncio.py\", line 818, in run_sync_in_worker_thread\n",
      "    return await future\n",
      "  File \"c:\\users\\avyar\\appdata\\local\\programs\\python\\python37\\lib\\site-packages\\anyio\\_backends\\_asyncio.py\", line 754, in run\n",
      "    result = context.run(func, *args)\n",
      "  File \"c:\\users\\avyar\\appdata\\local\\programs\\python\\python37\\lib\\site-packages\\gradio\\interface.py\", line 492, in <lambda>\n",
      "    if len(self.output_components) == 1\n",
      "  File \"c:\\users\\avyar\\appdata\\local\\programs\\python\\python37\\lib\\site-packages\\gradio\\interface.py\", line 673, in run_prediction\n",
      "    prediction = predict_fn(*processed_input)\n",
      "TypeError: predict() takes 1 positional argument but 2 were given\n"
     ]
    }
   ],
   "source": [
    "#testing the input and output method of gradio \n",
    "\n",
    "\n",
    "app = gr.Interface(fn= predict,\n",
    "                   inputs = [\"number\", \"number\"],\n",
    "                   outputs = \"number\").launch()"
   ]
  },
  {
   "cell_type": "code",
   "execution_count": 95,
   "id": "967b632c-ffca-4d30-8dc0-dc4249853045",
   "metadata": {
    "tags": []
   },
   "outputs": [
    {
     "name": "stdout",
     "output_type": "stream",
     "text": [
      "Running on local URL:  http://127.0.0.1:7874/\n",
      "\n",
      "To create a public link, set `share=True` in `launch()`.\n"
     ]
    },
    {
     "data": {
      "text/html": [
       "\n",
       "        <iframe\n",
       "            width=\"900\"\n",
       "            height=\"500\"\n",
       "            src=\"http://127.0.0.1:7874/\"\n",
       "            frameborder=\"0\"\n",
       "            allowfullscreen\n",
       "            \n",
       "        ></iframe>\n",
       "        "
      ],
      "text/plain": [
       "<IPython.lib.display.IFrame at 0x1a3b55df2c8>"
      ]
     },
     "metadata": {},
     "output_type": "display_data"
    },
    {
     "data": {
      "text/plain": [
       "(<gradio.routes.App at 0x1a3b58ad608>, 'http://127.0.0.1:7874/', None)"
      ]
     },
     "execution_count": 95,
     "metadata": {},
     "output_type": "execute_result"
    }
   ],
   "source": [
    "\n",
    "# app = gr.Interface(fn = predict,\n",
    "#                    inputs = input_list,\n",
    "#                    outputs = [gr.Textbox(placeholder=\"output\")])\n",
    "# app.launch()       "
   ]
  },
  {
   "cell_type": "code",
   "execution_count": null,
   "id": "a470f76d-a516-4b5c-b133-accf640cd20b",
   "metadata": {},
   "outputs": [],
   "source": []
  },
  {
   "cell_type": "code",
   "execution_count": null,
   "id": "23bceb67-a659-4109-a999-1636d6659658",
   "metadata": {},
   "outputs": [],
   "source": []
  }
 ],
 "metadata": {
  "kernelspec": {
   "display_name": "Python 3 (ipykernel)",
   "language": "python",
   "name": "python3"
  },
  "language_info": {
   "codemirror_mode": {
    "name": "ipython",
    "version": 3
   },
   "file_extension": ".py",
   "mimetype": "text/x-python",
   "name": "python",
   "nbconvert_exporter": "python",
   "pygments_lexer": "ipython3",
   "version": "3.7.9"
  }
 },
 "nbformat": 4,
 "nbformat_minor": 5
}
