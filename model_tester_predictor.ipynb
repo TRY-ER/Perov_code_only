{
 "cells": [
  {
   "cell_type": "code",
   "execution_count": 1,
   "id": "75b6e86e-785c-41ca-8b89-89d8a1cd40f4",
   "metadata": {},
   "outputs": [],
   "source": [
    "import joblib\n",
    "import pandas as pd"
   ]
  },
  {
   "cell_type": "code",
   "execution_count": 18,
   "id": "f93fa641-2fed-48e6-8af0-731a6287d429",
   "metadata": {},
   "outputs": [],
   "source": [
    "# creating the dataset for prediction\n",
    "dataframe_dict = {\"Cell_area_measured_numeric\":[0.1],\n",
    "            \"Cell_architecture_cat\":[\"pin\"],\n",
    "            \"Substrate_stack_sequence_0\":[\"SLG\"],\n",
    "           \"ETL_stack_sequence_0\":[\"PCBM-60\"],\n",
    "           \"ETL_deposition_procedure_0\":[\"Spin-coating\"],\n",
    "           \"Perovskite_composition_a_ions_0\":[\"MA\"],\n",
    "           \"Perovskite_composition_a_ions_coefficients_0\":[1],\n",
    "            \"Perovskite_composition_b_ions_0\":[\"Pb\"],\n",
    "            \"Perovskite_composition_b_ions_coefficients_0\":[1],\n",
    "            \"Perovskite_composition_c_ions_0\":[\"I\"],\n",
    "           \"Perovskite_composition_c_ions_coefficients_0\":[3],\n",
    "            \"Perovskite_composition_inorganic_bool\":[\"No\"],\n",
    "                \"Perovskite_composition_leadfree_bool\":[\"No\"],\n",
    "                  \"Perovskite_band_gap_graded_bool\":[\"No\"],\n",
    "                \"Perovskite_deposition_number_of_deposition_steps_numeric\":[1],\n",
    "                \"Perovskite_deposition_procedure_0\":[\"Space-limited inverse temperature crystallization\"],\n",
    "                \"Perovskite_deposition_aggregation_state_of_reactants_0\":[\"Liquid\"],    \n",
    "                \"Perovskite_deposition_synthesis_atmosphere_0\":[\"N2\"],\n",
    "                \"Perovskite_deposition_solvents_0\":[\"DMSO\"],\n",
    "                \"Perovskite_deposition_solvents_mixing_ratios_0\":[1],\n",
    "                \"Perovskite_deposition_quenching_induced_crystallisation_bool\":[\"Yes\"],\n",
    "                \"Perovskite_deposition_thermal_annealing_temperature_0\":[100],\n",
    "                \"Perovskite_deposition_thermal_annealing_temperature_1\":[0],\n",
    "                \"Perovskite_deposition_thermal_annealing_time_0\":[15],\n",
    "                \"Perovskite_deposition_thermal_annealing_time_1\":[0],\n",
    "                \"HTL_stack_sequence_0\":[\"NiMgO-c\"],\n",
    "                \"HTL_additives_compounds_0\":[\"None\"],\n",
    "                \"HTL_deposition_procedure_0\":[\"Spin-coating\"],\n",
    "                \"Backcontact_stack_sequence_0\":[\"Ag\"],\n",
    "            \"Backcontact_thickness_list_0\":[100],\n",
    "            \"Backcontact_deposition_procedure_0\":[\"Evaporation\"],\n",
    "            \"Encapsulation_bool\":[\"No\"]}\n",
    "predict_df = pd.DataFrame(dataframe_dict)"
   ]
  },
  {
   "cell_type": "code",
   "execution_count": 19,
   "id": "ee4ee9fa-04c4-4614-92ee-29639722bf69",
   "metadata": {},
   "outputs": [],
   "source": [
    "col_data = joblib.load(\"./testing/label_encoders/col_data.z\")"
   ]
  },
  {
   "cell_type": "code",
   "execution_count": 20,
   "id": "696e32d3-89f1-4f24-8789-fb388550377c",
   "metadata": {},
   "outputs": [],
   "source": [
    "mod_df = predict_df.copy()\n",
    "for col in predict_df.columns:\n",
    "    if col in col_data[\"categorical\"] or col in col_data[\"boolean\"]:\n",
    "        lbl_enc = joblib.load(f\"./testing/label_encoders/{col}_lbl_enc.z\")\n",
    "        mod_df[col] = lbl_enc.transform(mod_df[col])"
   ]
  },
  {
   "cell_type": "code",
   "execution_count": 21,
   "id": "3afbf1ec-01e4-4296-9156-28c68798065a",
   "metadata": {},
   "outputs": [],
   "source": [
    "standard_scaler = joblib.load(\"./testing/scaler.z\")\n",
    "mod_df = standard_scaler.transform(mod_df)\n",
    "mod_df = pd.DataFrame(mod_df,columns=predict_df.columns)"
   ]
  },
  {
   "cell_type": "code",
   "execution_count": 22,
   "id": "b32bfcb0-ba4f-43f4-9b18-abfa06d1b5b4",
   "metadata": {},
   "outputs": [],
   "source": [
    "#loading the model\n",
    "def predict(df,num_folds):\n",
    "    result_li = []\n",
    "    for fold in range(num_folds):\n",
    "        print(f\"predicting for fold {fold} / {num_folds}\")\n",
    "        model = joblib.load(f\"./testing/models/{fold}_xgboost.z\")\n",
    "        result = model.predict(df)\n",
    "        print(result)\n",
    "        result_li.append(result)\n",
    "    return result_li"
   ]
  },
  {
   "cell_type": "code",
   "execution_count": 23,
   "id": "39a26bc6-aa0e-420f-9ab8-e2127d743181",
   "metadata": {},
   "outputs": [
    {
     "name": "stdout",
     "output_type": "stream",
     "text": [
      "predicting for fold 0 / 5\n",
      "[0]\n",
      "predicting for fold 1 / 5\n",
      "[0]\n",
      "predicting for fold 2 / 5\n",
      "[0]\n",
      "predicting for fold 3 / 5\n",
      "[0]\n",
      "predicting for fold 4 / 5\n",
      "[0]\n"
     ]
    }
   ],
   "source": [
    "result = predict(mod_df,5)"
   ]
  },
  {
   "cell_type": "code",
   "execution_count": 16,
   "id": "edadc9f6-654f-4fb3-9b91-962dd31d02c9",
   "metadata": {},
   "outputs": [
    {
     "name": "stdout",
     "output_type": "stream",
     "text": [
      "[array([4], dtype=int64), array([4], dtype=int64), array([0], dtype=int64), array([1], dtype=int64), array([4], dtype=int64)]\n"
     ]
    }
   ],
   "source": [
    "print(result)"
   ]
  },
  {
   "cell_type": "code",
   "execution_count": 17,
   "id": "c51f46a6-570e-410e-96e2-4c4ad44eef34",
   "metadata": {},
   "outputs": [
    {
     "name": "stdout",
     "output_type": "stream",
     "text": [
      "['low']\n"
     ]
    }
   ],
   "source": [
    "#manual reverse encoding for  target column\n",
    "value = [4]\n",
    "lbl_tar = joblib.load(\"./testing/label_encoders/PCE_categorical_lbl_enc.z\")\n",
    "str_value = lbl_tar.inverse_transform(value)\n",
    "print(str_value)"
   ]
  },
  {
   "cell_type": "code",
   "execution_count": null,
   "id": "c5f6a741-20f0-4b6a-96e0-c3092c22e6d4",
   "metadata": {},
   "outputs": [],
   "source": []
  }
 ],
 "metadata": {
  "kernelspec": {
   "display_name": "Python 3 (ipykernel)",
   "language": "python",
   "name": "python3"
  },
  "language_info": {
   "codemirror_mode": {
    "name": "ipython",
    "version": 3
   },
   "file_extension": ".py",
   "mimetype": "text/x-python",
   "name": "python",
   "nbconvert_exporter": "python",
   "pygments_lexer": "ipython3",
   "version": "3.7.9"
  }
 },
 "nbformat": 4,
 "nbformat_minor": 5
}
