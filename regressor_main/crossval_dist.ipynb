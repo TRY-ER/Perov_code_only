{
 "cells": [
  {
   "cell_type": "markdown",
   "id": "1ea62f60-0563-45f5-aff1-8274369e8a51",
   "metadata": {},
   "source": [
    "## The data comes from preprocessor.ipypnb :: ./data/scaled_trainable.csv"
   ]
  },
  {
   "cell_type": "code",
   "execution_count": 5,
   "id": "90c21397-57b5-4566-9734-c88696292109",
   "metadata": {},
   "outputs": [],
   "source": [
    "import pandas as pd\n",
    "import numpy as np\n",
    "from sklearn.model_selection import KFold\n",
    "import joblib"
   ]
  },
  {
   "cell_type": "code",
   "execution_count": 6,
   "id": "d8fbadc2-918a-4251-a803-2b9fad682485",
   "metadata": {},
   "outputs": [],
   "source": [
    "def save_k_fold(df,k_folds, tarcol,save=True,save_path=\"./cross_val/\"):\n",
    "    y = df[tarcol]\n",
    "    x = df.drop([tarcol],axis=1)\n",
    "    # k_fold constructing the cross-validation framework\n",
    "    skf = KFold(n_splits=k_folds,shuffle=True, random_state=123 )\n",
    "    fold_dict = {}\n",
    "    for i, (train_index, test_index) in enumerate(skf.split(x,y)):\n",
    "        index_data = {\"train\": train_index,\n",
    "                      \"test\": test_index}\n",
    "        fold_dict[i] = index_data\n",
    "    if save:\n",
    "        joblib.dump(fold_dict,f\"{save_path}fold_data.z\")\n",
    "        print(f\"saved the fold_data at {save_path}fold_data.z\")"
   ]
  },
  {
   "cell_type": "code",
   "execution_count": 7,
   "id": "052fb357-9769-4a55-9934-17759e9dbcfa",
   "metadata": {},
   "outputs": [
    {
     "name": "stdout",
     "output_type": "stream",
     "text": [
      "Starting generating folds...\n",
      "saved the fold_data at ./cross_val/fold_data.z\n",
      "Generating and saved folds...\n"
     ]
    }
   ],
   "source": [
    "if __name__ == \"__main__\":\n",
    "    df = pd.read_csv(\"./data/scaled_trainable.csv\")\n",
    "    k_folds = 20\n",
    "    tarcol = \"JV_default_PCE_numeric\"\n",
    "    print(\"Starting generating folds...\")\n",
    "    save_k_fold(df=df,k_folds=k_folds,tarcol=tarcol)\n",
    "    print(\"Generating and saved folds...\")"
   ]
  },
  {
   "cell_type": "code",
   "execution_count": null,
   "id": "506c1db1-81fc-4800-820f-85b547323f38",
   "metadata": {},
   "outputs": [],
   "source": []
  }
 ],
 "metadata": {
  "kernelspec": {
   "display_name": "Python 3 (ipykernel)",
   "language": "python",
   "name": "python3"
  },
  "language_info": {
   "codemirror_mode": {
    "name": "ipython",
    "version": 3
   },
   "file_extension": ".py",
   "mimetype": "text/x-python",
   "name": "python",
   "nbconvert_exporter": "python",
   "pygments_lexer": "ipython3",
   "version": "3.7.9"
  }
 },
 "nbformat": 4,
 "nbformat_minor": 5
}
