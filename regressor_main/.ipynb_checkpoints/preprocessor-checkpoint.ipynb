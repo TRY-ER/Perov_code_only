{
 "cells": [
  {
   "cell_type": "markdown",
   "id": "dd4fb9bc-ef94-4a15-b587-9cd132a3b057",
   "metadata": {},
   "source": [
    "## The data comes from :: ./data/smote_reg_reversed.csv >> manually cleaned"
   ]
  },
  {
   "cell_type": "code",
   "execution_count": null,
   "id": "a8195bd7-cfd5-4161-b85d-62e5a08f6dbf",
   "metadata": {},
   "outputs": [],
   "source": [
    "import pandas as pd\n",
    "import joblib"
   ]
  },
  {
   "cell_type": "code",
   "execution_count": 25,
   "id": "8925880c-8087-4330-aca6-371f4bd44c76",
   "metadata": {},
   "outputs": [],
   "source": [
    "main_df = pd.read_csv(\"./data/smote_reg_reversed_df.csv\")"
   ]
  },
  {
   "cell_type": "code",
   "execution_count": 26,
   "id": "b368230b-b3ca-4078-8ec2-5d27ab649762",
   "metadata": {},
   "outputs": [
    {
     "data": {
      "text/plain": [
       "(46820, 104)"
      ]
     },
     "execution_count": 26,
     "metadata": {},
     "output_type": "execute_result"
    }
   ],
   "source": [
    "main_df.shape"
   ]
  },
  {
   "cell_type": "code",
   "execution_count": 27,
   "id": "75f9f6ef-26db-47a3-a083-3ef94dce5a04",
   "metadata": {
    "jupyter": {
     "source_hidden": true
    },
    "tags": []
   },
   "outputs": [],
   "source": [
    "# main_df = main_df.drop([\"Substrate_stack_sequence_1\",\"Substrate_stack_sequence_2\",\"Substrate_stack_sequence_3\",\"Substrate_stack_sequence_4\",\n",
    "#                         \"ETL_stack_sequence_1\",\n",
    "#                         \"ETL_stack_sequence_2\",\n",
    "#                         \"ETL_stack_sequence_3\",\n",
    "#                         \"ETL_stack_sequence_4\",\n",
    "#                         \"ETL_stack_sequence_5\",\n",
    "#                         \"ETL_stack_sequence_6\",\n",
    "#                         \"ETL_deposition_procedure_1\",\n",
    "#                         \"ETL_deposition_procedure_2\",\n",
    "#                         \"ETL_deposition_procedure_3\",\n",
    "#                         \"ETL_deposition_procedure_4\",\n",
    "#                         \"ETL_deposition_procedure_5\",\n",
    "#                         \"ETL_deposition_procedure_6\",\n",
    "#                         \"Perovskite_composition_b_ions_1\",\n",
    "#                         \"Perovskite_composition_b_ions_2\",\n",
    "#                         \"Perovskite_composition_b_ions_3\",\n",
    "#                         \"Perovskite_composition_b_ions_coefficients_1\",\n",
    "#                         \"Perovskite_composition_b_ions_coefficients_2\",\n",
    "#                         \"Perovskite_composition_b_ions_coefficients_3\",\n",
    "#                         \"Perovskite_composition_c_ions_1\",\n",
    "#                         \"Perovskite_composition_c_ions_2\",\n",
    "#                         \"Perovskite_composition_c_ions_3\",\n",
    "#                         \"Perovskite_composition_c_ions_coefficients_1\",\n",
    "#                         \"Perovskite_composition_c_ions_coefficients_2\",\n",
    "#                         \"Perovskite_composition_c_ions_coefficients_3\",\n",
    "#                         \"Perovskite_deposition_procedure_1\",\n",
    "#                         \"Perovskite_deposition_procedure_2\",\n",
    "#                         \"Perovskite_deposition_procedure_3\",\n",
    "#                         \"Perovskite_deposition_procedure_4\",\n",
    "#                         \"Perovskite_deposition_procedure_5\",\n",
    "#                         \"Perovskite_deposition_aggregation_state_of_reactants_1\",\n",
    "#                         \"Perovskite_deposition_aggregation_state_of_reactants_2\",\n",
    "#                         \"Perovskite_deposition_aggregation_state_of_reactants_3\",\n",
    "#                         \"Perovskite_deposition_aggregation_state_of_reactants_4\",\n",
    "#                         \"Perovskite_deposition_aggregation_state_of_reactants_5\",\n",
    "#                         \"Perovskite_deposition_synthesis_atmosphere_1\",\n",
    "#                         \"Perovskite_deposition_synthesis_atmosphere_2\",\n",
    "#                         \"Perovskite_deposition_synthesis_atmosphere_3\",\n",
    "#                         \"Perovskite_deposition_synthesis_atmosphere_4\",\n",
    "#                         \"Perovskite_deposition_synthesis_atmosphere_5\",\n",
    "#                         \"Perovskite_deposition_solvents_1\",\n",
    "#                         \"Perovskite_deposition_solvents_2\",\n",
    "#                         \"Perovskite_deposition_solvents_3\",\n",
    "#                         \"Perovskite_deposition_solvents_4\",\n",
    "#                         \"Perovskite_deposition_solvents_5\",\n",
    "#                         \"Perovskite_deposition_solvents_mixing_ratios_1\",\n",
    "#                         \"Perovskite_deposition_solvents_mixing_ratios_2\",\n",
    "#                         \"Perovskite_deposition_solvents_mixing_ratios_3\",\n",
    "#                         \"Perovskite_deposition_solvents_mixing_ratios_4\",\n",
    "#                         \"Perovskite_deposition_solvents_mixing_ratios_5\",\n",
    "#                         \"HTL_additives_compounds_1\",\n",
    "#                         \"HTL_additives_compounds_2\",\n",
    "#                         \"HTL_additives_compounds_3\",\n",
    "#                         \"HTL_additives_compounds_4\",\n",
    "#                         \"HTL_deposition_procedure_1\",\n",
    "#                         \"HTL_deposition_procedure_2\",\n",
    "#                         \"HTL_deposition_procedure_3\",\n",
    "#                         \"HTL_deposition_procedure_4\",\n",
    "#                         \"HTL_deposition_procedure_5\",\n",
    "#                         \"Backcontact_stack_sequence_1\",\n",
    "#                         \"Backcontact_stack_sequence_2\",\n",
    "#                         \"Backcontact_stack_sequence_3\",\n",
    "#                         \"Backcontact_stack_sequence_4\",\n",
    "#                         \"Backcontact_thickness_list_1\",\n",
    "#                         \"Backcontact_thickness_list_2\",\n",
    "#                         \"Backcontact_thickness_list_3\",\n",
    "#                         \"Backcontact_thickness_list_4\",\n",
    "#                         \"Backcontact_deposition_procedure_1\",\n",
    "#                         \"Backcontact_deposition_procedure_2\",\n",
    "#                         \"Backcontact_deposition_procedure_3\",\n",
    "#                         \"Backcontact_deposition_procedure_4\",\n",
    "#                         \"Perovskite_composition_a_ions_1\",\n",
    "#                         \"Perovskite_composition_a_ions_2\",\n",
    "#                         \"Perovskite_composition_a_ions_3\",\n",
    "#                         \"Perovskite_composition_a_ions_coefficients_1\",\n",
    "#                         \"Perovskite_composition_a_ions_coefficients_2\",\n",
    "#                         \"Perovskite_composition_a_ions_coefficients_3\",\n",
    "#                         \"Perovskite_composition_b_ions_1\",\n",
    "#                         \"Perovskite_composition_b_ions_2\",\n",
    "#                         \"Perovskite_composition_b_ions_3\",\n",
    "#                         \"Perovskite_composition_b_ions_coefficients_1\",\n",
    "#                         \"Perovskite_composition_b_ions_coefficients_2\",\n",
    "#                         \"Perovskite_composition_b_ions_coefficients_3\",\n",
    "#                         \"Perovskite_composition_c_ions_1\",\n",
    "#                         \"Perovskite_composition_c_ions_2\",\n",
    "#                         \"Perovskite_composition_c_ions_3\",\n",
    "#                         \"Perovskite_composition_c_ions_coefficients_1\",\n",
    "#                         \"Perovskite_composition_c_ions_coefficients_2\",\n",
    "#                         \"Perovskite_composition_c_ions_coefficients_3\",\n",
    "#                         \"HTL_stack_sequence_1\",\n",
    "#                         \"HTL_stack_sequence_2\"\n",
    "#                        ],axis=1)"
   ]
  },
  {
   "cell_type": "code",
   "execution_count": 28,
   "id": "7895586f-6eba-40b4-820b-e0daef1aa41b",
   "metadata": {},
   "outputs": [],
   "source": [
    "temp_df = main_df.copy()\n",
    "\n",
    "def elem_space(word):\n",
    "    ''' This function reduces all the space occupied values to the individual values'''\n",
    "    try:\n",
    "        if word[0] == \" \": word = word[1:]\n",
    "        if word[-1] == \" \": word = word[:-1:]\n",
    "    except: ...\n",
    "    return word\n",
    "\n",
    "for col in temp_df.columns:\n",
    "    new_val = []\n",
    "    for value in temp_df[col].values:\n",
    "        indiv_val = elem_space(value)\n",
    "        new_val.append(indiv_val)\n",
    "    temp_df[col] = new_val\n",
    "\n",
    "\n",
    "\n",
    "prop_dict = {}\n",
    "for col in main_df.columns:\n",
    "    try:\n",
    "        prop_dict[col] = {}\n",
    "        prop_dict[col][\"min\"] = main_df[col].min()\n",
    "        prop_dict[col][\"max\"] = main_df[col].max()    \n",
    "        prop_dict[col][\"count\"] = main_df[col].count()    \n",
    "        prop_dict[col][\"u_val\"] = main_df[col].unique()\n",
    "        prop_dict[col][\"unique_count\"] = main_df[col].nunique()\n",
    "        prop_dict[col][\"type\"] = None\n",
    "        try:\n",
    "            if col[-4:] == \"bool\":\n",
    "                prop_dict[col][\"type\"] = \"bool\"\n",
    "                # print(col)\n",
    "            else:\n",
    "                float(prop_dict[col][\"max\"])\n",
    "                prop_dict[col][\"type\"] = \"numeric\"\n",
    "        except:\n",
    "            prop_dict[col][\"type\"] = \"categorical\"\n",
    "    except:print(col)\n",
    "\n",
    "    \n",
    "col_data_dict = prop_dict\n",
    "for col in col_data_dict.keys():\n",
    "    try:\n",
    "        if col_data_dict[col][\"type\"] == \"bool\":\n",
    "            temp_df[col] = temp_df[col].map({True: \"Yes\", False: \"No\"})\n",
    "            # print(temp_df[col].dtype)\n",
    "    except:..."
   ]
  },
  {
   "cell_type": "code",
   "execution_count": null,
   "id": "aee85f7b-1902-491a-90b6-f5d33d5b180b",
   "metadata": {},
   "outputs": [],
   "source": []
  },
  {
   "cell_type": "code",
   "execution_count": 29,
   "id": "5998c399-c2a1-46e6-b511-ae0a60470cb4",
   "metadata": {},
   "outputs": [],
   "source": [
    "joblib.dump(prop_dict,\"./propdict.z\")\n",
    "temp_df.to_csv(\"./data/modified_trainable.csv\",index=False)"
   ]
  },
  {
   "cell_type": "code",
   "execution_count": null,
   "id": "397f155c-dbe3-4610-b45d-a78b10140821",
   "metadata": {},
   "outputs": [],
   "source": []
  }
 ],
 "metadata": {
  "kernelspec": {
   "display_name": "Python 3 (ipykernel)",
   "language": "python",
   "name": "python3"
  },
  "language_info": {
   "codemirror_mode": {
    "name": "ipython",
    "version": 3
   },
   "file_extension": ".py",
   "mimetype": "text/x-python",
   "name": "python",
   "nbconvert_exporter": "python",
   "pygments_lexer": "ipython3",
   "version": "3.7.9"
  }
 },
 "nbformat": 4,
 "nbformat_minor": 5
}
