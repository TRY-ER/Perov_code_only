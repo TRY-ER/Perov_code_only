{
 "cells": [
  {
   "cell_type": "markdown",
   "id": "65ee4a61-bba6-418e-9431-9c6116ed17a4",
   "metadata": {},
   "source": [
    "## The data comes from preprocessor.ipypnb :: ./data/modified_trainable.csv"
   ]
  },
  {
   "cell_type": "code",
   "execution_count": 6,
   "id": "7fdab938-078d-4525-b437-9e5a1be1252c",
   "metadata": {},
   "outputs": [],
   "source": [
    "import pandas as pd\n",
    "import joblib\n",
    "import numpy as np\n",
    "from sklearn.preprocessing import LabelEncoder, StandardScaler"
   ]
  },
  {
   "cell_type": "code",
   "execution_count": 7,
   "id": "1bbb21d7-e42b-46ff-8d4c-677fcac4627b",
   "metadata": {},
   "outputs": [],
   "source": [
    "main_df = pd.read_csv(\"./data/modified_trainable.csv\")\n",
    "col_data = joblib.load(\"./propdict.z\")"
   ]
  },
  {
   "cell_type": "code",
   "execution_count": 11,
   "id": "4f0fa57f-accd-4151-adc3-b38d05cdfc89",
   "metadata": {},
   "outputs": [],
   "source": [
    "for col,values in col_data.items():\n",
    "    if values[\"type\"] == \"bool\" or values[\"type\"] == \"categorical\":\n",
    "        # print(col)\n",
    "        lbl_enc = LabelEncoder()\n",
    "        main_df[col] = lbl_enc.fit_transform(main_df[col])\n",
    "        joblib.dump(lbl_enc,f\"./encoders/{col}_lbl_enc.z\")"
   ]
  },
  {
   "cell_type": "code",
   "execution_count": 12,
   "id": "d2208e05-d3ee-455b-b65e-c8b072acc0c1",
   "metadata": {},
   "outputs": [],
   "source": [
    "tarcol = \"JV_default_PCE_numeric\"\n",
    "shaped_df = main_df.drop([tarcol],axis=1)\n",
    "scaler = StandardScaler()\n",
    "scaled_df = scaler.fit_transform(shaped_df)\n",
    "joblib.dump(scaler,\"./scaler/std_scaler.z\")\n",
    "\n",
    "export_df = pd.DataFrame(scaled_df,columns=[col for col in main_df.columns if col != tarcol] )\n",
    "export_df[tarcol] = main_df[tarcol]"
   ]
  },
  {
   "cell_type": "code",
   "execution_count": 15,
   "id": "61472cbd-5d5e-4983-ab94-32385f6f61a9",
   "metadata": {},
   "outputs": [],
   "source": [
    "export_df.to_csv(\"./data/scaled_trainable.csv\")"
   ]
  },
  {
   "cell_type": "code",
   "execution_count": null,
   "id": "b404f498-4b43-42fe-bf9f-c71f3fcd6d87",
   "metadata": {},
   "outputs": [],
   "source": []
  }
 ],
 "metadata": {
  "kernelspec": {
   "display_name": "Python 3 (ipykernel)",
   "language": "python",
   "name": "python3"
  },
  "language_info": {
   "codemirror_mode": {
    "name": "ipython",
    "version": 3
   },
   "file_extension": ".py",
   "mimetype": "text/x-python",
   "name": "python",
   "nbconvert_exporter": "python",
   "pygments_lexer": "ipython3",
   "version": "3.7.9"
  }
 },
 "nbformat": 4,
 "nbformat_minor": 5
}
