{
 "cells": [
  {
   "cell_type": "code",
   "execution_count": 1,
   "id": "a0087ed0-0984-4f03-9ee6-14b34007de02",
   "metadata": {},
   "outputs": [],
   "source": [
    "import pandas as pd"
   ]
  },
  {
   "cell_type": "code",
   "execution_count": 6,
   "id": "0b2c701f-fe84-47e0-851e-db82de8351d0",
   "metadata": {},
   "outputs": [],
   "source": [
    "samp_df = pd.read_csv(\"./data/modified_trainable.csv\")\n",
    "index = 0"
   ]
  },
  {
   "cell_type": "code",
   "execution_count": 10,
   "id": "a3c14bb3-ed41-4faa-abac-87df107769ba",
   "metadata": {},
   "outputs": [],
   "source": [
    "out = \"{\"\n",
    "for i in samp_df.columns: \n",
    "    out += f\"'{i}':[{samp_df[i][index]}],\\n\"\n",
    "out += \"}\""
   ]
  },
  {
   "cell_type": "code",
   "execution_count": 11,
   "id": "2516bdc0-7c19-48c1-8b50-667838122551",
   "metadata": {},
   "outputs": [
    {
     "name": "stdout",
     "output_type": "stream",
     "text": [
      "{'Cell_area_measured_numeric':[0.2],\n",
      "'Cell_architecture_cat':[nip],\n",
      "'Substrate_stack_sequence_0':[SLG],\n",
      "'Substrate_stack_sequence_1':[FTO],\n",
      "'Substrate_stack_sequence_2':[None],\n",
      "'Substrate_stack_sequence_3':[None],\n",
      "'Substrate_stack_sequence_4':[None],\n",
      "'ETL_stack_sequence_0':[TiO2-c],\n",
      "'ETL_stack_sequence_1':[TiO2-mp],\n",
      "'ETL_stack_sequence_2':[None],\n",
      "'ETL_stack_sequence_3':[None],\n",
      "'ETL_stack_sequence_4':[None],\n",
      "'ETL_stack_sequence_5':[None],\n",
      "'ETL_stack_sequence_6':[None],\n",
      "'ETL_deposition_procedure_0':[Spray-pyrolys],\n",
      "'ETL_deposition_procedure_1':[Spin-coating],\n",
      "'ETL_deposition_procedure_2':[None],\n",
      "'ETL_deposition_procedure_3':[None],\n",
      "'ETL_deposition_procedure_4':[None],\n",
      "'ETL_deposition_procedure_5':[None],\n",
      "'ETL_deposition_procedure_6':[None],\n",
      "'Perovskite_composition_a_ions_0':[Cs],\n",
      "'Perovskite_composition_a_ions_1':[None],\n",
      "'Perovskite_composition_a_ions_2':[None],\n",
      "'Perovskite_composition_a_ions_3':[None],\n",
      "'Perovskite_composition_a_ions_coefficients_0':[1.0],\n",
      "'Perovskite_composition_a_ions_coefficients_1':[0.0],\n",
      "'Perovskite_composition_a_ions_coefficients_2':[0.0],\n",
      "'Perovskite_composition_a_ions_coefficients_3':[0.0],\n",
      "'Perovskite_composition_b_ions_0':[Sn],\n",
      "'Perovskite_composition_b_ions_1':[None],\n",
      "'Perovskite_composition_b_ions_2':[None],\n",
      "'Perovskite_composition_b_ions_3':[None],\n",
      "'Perovskite_composition_b_ions_coefficients_0':[1.0],\n",
      "'Perovskite_composition_b_ions_coefficients_1':[0.0],\n",
      "'Perovskite_composition_b_ions_coefficients_2':[0.0],\n",
      "'Perovskite_composition_b_ions_coefficients_3':[0.0],\n",
      "'Perovskite_composition_c_ions_0':[I],\n",
      "'Perovskite_composition_c_ions_1':[None],\n",
      "'Perovskite_composition_c_ions_2':[None],\n",
      "'Perovskite_composition_c_ions_3':[None],\n",
      "'Perovskite_composition_c_ions_coefficients_0':[3.0],\n",
      "'Perovskite_composition_c_ions_coefficients_1':[0.0],\n",
      "'Perovskite_composition_c_ions_coefficients_2':[0.0],\n",
      "'Perovskite_composition_c_ions_coefficients_3':[0.0],\n",
      "'Perovskite_composition_leadfree_bool':[Yes],\n",
      "'Perovskite_band_gap_graded_bool':[No],\n",
      "'Perovskite_deposition_number_of_deposition_steps_numeric':[1.0],\n",
      "'Perovskite_deposition_procedure_0':[Space-limited inverse temperature crystallization],\n",
      "'Perovskite_deposition_procedure_1':[Ultrasonic spray],\n",
      "'Perovskite_deposition_procedure_2':[None],\n",
      "'Perovskite_deposition_procedure_3':[None],\n",
      "'Perovskite_deposition_procedure_4':[None],\n",
      "'Perovskite_deposition_procedure_5':[None],\n",
      "'Perovskite_deposition_aggregation_state_of_reactants_0':[Liquid],\n",
      "'Perovskite_deposition_aggregation_state_of_reactants_1':[None],\n",
      "'Perovskite_deposition_aggregation_state_of_reactants_2':[None],\n",
      "'Perovskite_deposition_aggregation_state_of_reactants_3':[None],\n",
      "'Perovskite_deposition_aggregation_state_of_reactants_4':[None],\n",
      "'Perovskite_deposition_aggregation_state_of_reactants_5':[None],\n",
      "'Perovskite_deposition_synthesis_atmosphere_0':[N2],\n",
      "'Perovskite_deposition_synthesis_atmosphere_1':[None],\n",
      "'Perovskite_deposition_solvents_0':[DMSO],\n",
      "'Perovskite_deposition_solvents_1':[None],\n",
      "'Perovskite_deposition_solvents_2':[None],\n",
      "'Perovskite_deposition_solvents_3':[None],\n",
      "'Perovskite_deposition_solvents_4':[None],\n",
      "'Perovskite_deposition_solvents_5':[None],\n",
      "'Perovskite_deposition_solvents_mixing_ratios_0':[1],\n",
      "'Perovskite_deposition_solvents_mixing_ratios_1':[0],\n",
      "'Perovskite_deposition_solvents_mixing_ratios_2':[0.0],\n",
      "'Perovskite_deposition_solvents_mixing_ratios_3':[0.0],\n",
      "'Perovskite_deposition_solvents_mixing_ratios_4':[0],\n",
      "'Perovskite_deposition_solvents_mixing_ratios_5':[0],\n",
      "'Perovskite_deposition_quenching_induced_crystallisation_bool':[No],\n",
      "'Perovskite_deposition_thermal_annealing_temperature_0':[100.0],\n",
      "'Perovskite_deposition_thermal_annealing_temperature_1':[0.0],\n",
      "'Perovskite_deposition_thermal_annealing_time_0':[10.0],\n",
      "'Perovskite_deposition_thermal_annealing_time_1':[0.0],\n",
      "'HTL_stack_sequence_0':[Selenium],\n",
      "'HTL_stack_sequence_1':[None],\n",
      "'HTL_stack_sequence_2':[None],\n",
      "'HTL_additives_compounds_0':[Li(CF3SO2)2N],\n",
      "'HTL_additives_compounds_1':[TBP],\n",
      "'HTL_additives_compounds_2':[None],\n",
      "'HTL_additives_compounds_3':[None],\n",
      "'HTL_additives_compounds_4':[None],\n",
      "'HTL_deposition_procedure_0':[Spin-coating],\n",
      "'HTL_deposition_procedure_1':[None],\n",
      "'HTL_deposition_procedure_2':[None],\n",
      "'HTL_deposition_procedure_3':[None],\n",
      "'HTL_deposition_procedure_4':[None],\n",
      "'HTL_deposition_procedure_5':[None],\n",
      "'Backcontact_stack_sequence_0':[Au],\n",
      "'Backcontact_stack_sequence_1':[None],\n",
      "'Backcontact_stack_sequence_2':[None],\n",
      "'Backcontact_stack_sequence_3':[None],\n",
      "'Backcontact_stack_sequence_4':[None],\n",
      "'Backcontact_thickness_list_0':[90.0],\n",
      "'Backcontact_thickness_list_1':[0.0],\n",
      "'Backcontact_deposition_procedure_0':[Evaporation],\n",
      "'Backcontact_deposition_procedure_1':[None],\n",
      "'Encapsulation_bool':[No],\n",
      "'JV_default_PCE_numeric':[0.0],\n",
      "}\n"
     ]
    }
   ],
   "source": [
    "print(out)"
   ]
  },
  {
   "cell_type": "code",
   "execution_count": null,
   "id": "55a9eb7f-1e35-4f13-8b8c-d469654c3c9e",
   "metadata": {},
   "outputs": [],
   "source": []
  }
 ],
 "metadata": {
  "kernelspec": {
   "display_name": "Python 3 (ipykernel)",
   "language": "python",
   "name": "python3"
  },
  "language_info": {
   "codemirror_mode": {
    "name": "ipython",
    "version": 3
   },
   "file_extension": ".py",
   "mimetype": "text/x-python",
   "name": "python",
   "nbconvert_exporter": "python",
   "pygments_lexer": "ipython3",
   "version": "3.7.9"
  }
 },
 "nbformat": 4,
 "nbformat_minor": 5
}
