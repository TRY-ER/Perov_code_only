{
 "cells": [
  {
   "cell_type": "code",
   "execution_count": 1,
   "id": "3bf23e29-a7c6-48d3-8313-86013ab96294",
   "metadata": {},
   "outputs": [],
   "source": [
    "import pandas as pd\n",
    "import numpy as np\n",
    "import joblib"
   ]
  },
  {
   "cell_type": "code",
   "execution_count": 2,
   "id": "ad76d78a-fe84-40a3-9a7a-7009811ae3ec",
   "metadata": {},
   "outputs": [],
   "source": [
    "main_df = pd.read_csv(\"./inputs/smote_main_reversed_revised_main.csv\")"
   ]
  },
  {
   "cell_type": "code",
   "execution_count": 3,
   "id": "08743f6d-ea7b-4b8f-aebf-68587f2fb8bd",
   "metadata": {},
   "outputs": [],
   "source": [
    "prop_dict = {}\n",
    "for col in main_df.columns:\n",
    "    prop_dict[col] = {}\n",
    "    prop_dict[col][\"min\"] = main_df[col].min()\n",
    "    prop_dict[col][\"max\"] = main_df[col].max()    \n",
    "    prop_dict[col][\"count\"] = main_df[col].count()    \n",
    "    prop_dict[col][\"u_val\"] = main_df[col].unique()\n",
    "    prop_dict[col][\"unique_count\"] = main_df[col].nunique()"
   ]
  },
  {
   "cell_type": "code",
   "execution_count": 4,
   "id": "5637a02e-5eab-4bdb-85bd-88db5236eab3",
   "metadata": {},
   "outputs": [
    {
     "data": {
      "text/plain": [
       "['./deposition/col_data_pred.z']"
      ]
     },
     "execution_count": 4,
     "metadata": {},
     "output_type": "execute_result"
    }
   ],
   "source": [
    "joblib.dump(prop_dict,\"./deposition/col_data_pred.z\")"
   ]
  },
  {
   "cell_type": "code",
   "execution_count": null,
   "id": "23a5c68c-5fd3-4167-8943-e04a09764e98",
   "metadata": {},
   "outputs": [],
   "source": []
  }
 ],
 "metadata": {
  "kernelspec": {
   "display_name": "Python 3 (ipykernel)",
   "language": "python",
   "name": "python3"
  },
  "language_info": {
   "codemirror_mode": {
    "name": "ipython",
    "version": 3
   },
   "file_extension": ".py",
   "mimetype": "text/x-python",
   "name": "python",
   "nbconvert_exporter": "python",
   "pygments_lexer": "ipython3",
   "version": "3.7.9"
  }
 },
 "nbformat": 4,
 "nbformat_minor": 5
}
